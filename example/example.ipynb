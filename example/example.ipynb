{
 "cells": [
  {
   "cell_type": "markdown",
   "metadata": {},
   "source": [
    "# Adaptive partitioning algorithm for mutual information estimation\n",
    "\n",
    "Python implementation of mutual information estimation, where adaptive partitioning strategy is applied.\n",
    "\n",
    "## Reference\n",
    "- Darbellay, G. A., & Vajda, I. (1999). Estimation of the information by an adaptive partitioning of the observation space. IEEE Transactions on Information Theory, 45(4), 1315-1321."
   ]
  },
  {
   "cell_type": "code",
   "execution_count": 1,
   "metadata": {},
   "outputs": [],
   "source": [
    "import numpy as np\n",
    "from minfo import mutual_info as mi_cy\n",
    "from minfo import tdmi as TDMI_cy\n",
    "from minfo import tdmi_omp as TDMI_cy_omp\n",
    "from mutual_info import mutual_info as mi_py\n",
    "import time\n",
    "\n",
    "def TDMI_py(dat, n):\n",
    "    \"\"\"Time-delay mutual information estimator. (Pure Python Version)\n",
    "    \n",
    "    Parameters:\n",
    "        dat (np.ndarray) : 2D array of time series with 2 column.\n",
    "            each column is a variable, and each row is a sample.\n",
    "        n (int) : number of delays, including zero time-lag case.\n",
    "\n",
    "    Returns:\n",
    "        np.ndarray : 1d array of delayed mutual information series.\n",
    "\n",
    "    \"\"\"\n",
    "    tdmi = np.zeros(n)\n",
    "    N = dat.shape[0]\n",
    "    for i in range(n):\n",
    "        dat_buffer = np.zeros((N-i, 2))\n",
    "        dat_buffer[:,0] = dat[:N-i,0]\n",
    "        dat_buffer[:,1] = dat[i:,1]\n",
    "        tdmi[i] = mi_py(dat_buffer)\n",
    "    return tdmi"
   ]
  },
  {
   "cell_type": "code",
   "execution_count": 2,
   "metadata": {},
   "outputs": [
    {
     "output_type": "execute_result",
     "data": {
      "text/plain": [
       "(10000, 2)"
      ]
     },
     "metadata": {},
     "execution_count": 2
    }
   ],
   "source": [
    "# load sample time series\n",
    "dat = np.load('sample.npy', allow_pickle=True)\n",
    "dat.shape"
   ]
  },
  {
   "cell_type": "code",
   "execution_count": 3,
   "metadata": {},
   "outputs": [
    {
     "output_type": "stream",
     "name": "stdout",
     "text": [
      "[INFO]: Testing mi (Python) ...\n",
      "179 ms ± 5.65 ms per loop (mean ± std. dev. of 7 runs, 10 loops each)\n"
     ]
    }
   ],
   "source": [
    "print('[INFO]: Testing mi (Python) ...')\n",
    "%timeit mi_py(dat)"
   ]
  },
  {
   "cell_type": "code",
   "execution_count": 4,
   "metadata": {},
   "outputs": [
    {
     "output_type": "stream",
     "name": "stdout",
     "text": [
      "[INFO]: Testing mi (Cython) ...\n",
      "11.1 ms ± 64 µs per loop (mean ± std. dev. of 7 runs, 100 loops each)\n"
     ]
    }
   ],
   "source": [
    "print('[INFO]: Testing mi (Cython) ...')\n",
    "%timeit mi_cy(dat[:,0], dat[:,1])"
   ]
  },
  {
   "cell_type": "code",
   "execution_count": 5,
   "metadata": {},
   "outputs": [
    {
     "output_type": "stream",
     "name": "stdout",
     "text": [
      "[INFO]: Testing tdmi (Python) ...\n",
      "402 ms ± 1.86 ms per loop (mean ± std. dev. of 7 runs, 1 loop each)\n"
     ]
    }
   ],
   "source": [
    "n_delay = 100\n",
    "print('[INFO]: Testing tdmi (Python) ...')\n",
    "%timeit TDMI_py(dat, n_delay)"
   ]
  },
  {
   "cell_type": "code",
   "execution_count": 6,
   "metadata": {},
   "outputs": [
    {
     "output_type": "stream",
     "name": "stdout",
     "text": [
      "[INFO]: Testing tdmi (Cython) ...\n",
      "167 ms ± 814 µs per loop (mean ± std. dev. of 7 runs, 10 loops each)\n"
     ]
    }
   ],
   "source": [
    "print('[INFO]: Testing tdmi (Cython) ...')\n",
    "%timeit TDMI_cy(dat[:,0], dat[:,1], n_delay)"
   ]
  },
  {
   "cell_type": "code",
   "execution_count": 7,
   "metadata": {},
   "outputs": [
    {
     "output_type": "stream",
     "name": "stdout",
     "text": [
      "[INFO]: Testing tdmi (Cython) ...\n",
      "44 ms ± 399 µs per loop (mean ± std. dev. of 7 runs, 10 loops each)\n"
     ]
    }
   ],
   "source": [
    "print('[INFO]: Testing tdmi (Cython/OpenMP) ...')\n",
    "%timeit TDMI_cy_omp(dat[:,0], dat[:,1], n_delay)"
   ]
  }
 ],
 "metadata": {
  "kernelspec": {
   "name": "python3",
   "display_name": "Python 3.7.8 64-bit ('base': conda)"
  },
  "language_info": {
   "codemirror_mode": {
    "name": "ipython",
    "version": 3
   },
   "file_extension": ".py",
   "mimetype": "text/x-python",
   "name": "python",
   "nbconvert_exporter": "python",
   "pygments_lexer": "ipython3",
   "version": "3.7.8"
  }
 },
 "nbformat": 4,
 "nbformat_minor": 4
}